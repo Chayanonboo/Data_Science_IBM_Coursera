{
  "metadata": {
    "kernelspec": {
      "name": "xpython",
      "display_name": "Python 3.13 (XPython)",
      "language": "python"
    },
    "language_info": {
      "file_extension": ".py",
      "mimetype": "text/x-python",
      "name": "python",
      "version": "3.13.1"
    }
  },
  "nbformat_minor": 5,
  "nbformat": 4,
  "cells": [
    {
      "id": "8fc9a59b-6026-4051-bf0d-e9ee07b69681",
      "cell_type": "markdown",
      "source": "# Data Science Tools and Ecosystem",
      "metadata": {}
    },
    {
      "id": "c256de37-10c1-4041-886a-a33c33e2b794",
      "cell_type": "markdown",
      "source": "In this notebook, Data Science Tools and Ecosystem are summarized.",
      "metadata": {}
    },
    {
      "id": "bef14072-61b2-42b4-9cd7-b7172f39d461",
      "cell_type": "markdown",
      "source": "Some of the popular languages that Data Scientists use are:\n1. Python\n2. R\n3. SQL\n4. Julia\n5. Scala",
      "metadata": {}
    },
    {
      "id": "dbff9e61-6fb7-408d-82ff-8e8c5a25755a",
      "cell_type": "markdown",
      "source": "Some of the commonly used libraries used by Data Scientists include:\n1. Tidyverse\n2. dpyr\n3. GGplot",
      "metadata": {}
    },
    {
      "id": "fb326c2b-2caa-49b3-8004-336bc4aa4393",
      "cell_type": "markdown",
      "source": "| Data Science Tools |\n|--------------------|\n| JupyterLab         |\n| RStudio            |\n| VS Code            |",
      "metadata": {}
    },
    {
      "id": "0d46e4bc-354f-4b56-9a66-965133e35ed7",
      "cell_type": "markdown",
      "source": "### Below are a few examples of evaluating arithmetic expressions in Python",
      "metadata": {}
    },
    {
      "id": "56c93988-8d34-47f2-9d9f-a8383c3ed729",
      "cell_type": "code",
      "source": "# This a simple arithmetic expression to multiply then add integers.",
      "metadata": {
        "trusted": true
      },
      "outputs": [],
      "execution_count": 2
    },
    {
      "id": "4e699ac7-2eea-4081-8fcc-1a62171cb9a1",
      "cell_type": "code",
      "source": "(3 * 4) + 5",
      "metadata": {
        "trusted": true
      },
      "outputs": [
        {
          "execution_count": 3,
          "output_type": "execute_result",
          "data": {
            "text/plain": "17"
          },
          "metadata": {}
        }
      ],
      "execution_count": 3
    },
    {
      "id": "7a3b08ee-ebcd-4333-aa33-2f7e289ae4e0",
      "cell_type": "code",
      "source": "# This will convert 200 minutes to hours by diving by 60",
      "metadata": {
        "trusted": true
      },
      "outputs": [],
      "execution_count": 4
    },
    {
      "id": "7b01b8ad-c4dd-4cc7-ad22-eecbb71cbc7d",
      "cell_type": "code",
      "source": "200/60",
      "metadata": {
        "trusted": true
      },
      "outputs": [
        {
          "execution_count": 5,
          "output_type": "execute_result",
          "data": {
            "text/plain": "3.3333333333333335"
          },
          "metadata": {}
        }
      ],
      "execution_count": 5
    },
    {
      "id": "995738e2-38aa-4155-b612-efffd4f0d5c5",
      "cell_type": "markdown",
      "source": "**Objectives:**\n* List popular languages for Data Science.\n* Understand the purpose and use of Jupyter Notebooks.\n* Learn about Git and GitHub for version control and collaboration.\n* Familiarize with R and RStudio for data analysis and visualization.\n* Perform basic arithmetic operations in a code cell.",
      "metadata": {}
    },
    {
      "id": "2eebb024-fa2d-40cb-a231-22c57d9aa78a",
      "cell_type": "markdown",
      "source": "## Author\n[Chayanon Boonthanom]",
      "metadata": {}
    }
  ]
}